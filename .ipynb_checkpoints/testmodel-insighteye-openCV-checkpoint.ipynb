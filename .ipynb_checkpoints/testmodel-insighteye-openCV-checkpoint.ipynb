{
 "cells": [
  {
   "cell_type": "code",
   "execution_count": 3,
   "id": "727dbd7b-017a-4225-874f-5601f1300031",
   "metadata": {
    "tags": []
   },
   "outputs": [
    {
     "ename": "SyntaxError",
     "evalue": "invalid syntax (2128226385.py, line 1)",
     "output_type": "error",
     "traceback": [
      "\u001b[0;36m  Cell \u001b[0;32mIn[3], line 1\u001b[0;36m\u001b[0m\n\u001b[0;31m    sudo apt-get install libgl1-mesa-glx\u001b[0m\n\u001b[0m         ^\u001b[0m\n\u001b[0;31mSyntaxError\u001b[0m\u001b[0;31m:\u001b[0m invalid syntax\n"
     ]
    }
   ],
   "source": [
    "sudo apt-get install libgl1-mesa-glx\n"
   ]
  },
  {
   "cell_type": "code",
   "execution_count": 1,
   "id": "854b4605-1014-4e8a-9af2-4abae2128dd6",
   "metadata": {
    "tags": []
   },
   "outputs": [
    {
     "name": "stdout",
     "output_type": "stream",
     "text": [
      "Collecting opencv-python\n",
      "  Downloading opencv_python-4.7.0.72-cp37-abi3-manylinux_2_17_x86_64.manylinux2014_x86_64.whl (61.8 MB)\n",
      "\u001b[2K     \u001b[90m━━━━━━━━━━━━━━━━━━━━━━━━━━━━━━━━━━━━━━━━\u001b[0m \u001b[32m61.8/61.8 MB\u001b[0m \u001b[31m20.3 MB/s\u001b[0m eta \u001b[36m0:00:00\u001b[0m00:01\u001b[0m00:01\u001b[0m\n",
      "\u001b[?25hRequirement already satisfied: numpy>=1.21.2 in /home/codespace/.local/lib/python3.10/site-packages (from opencv-python) (1.24.3)\n",
      "Installing collected packages: opencv-python\n",
      "Successfully installed opencv-python-4.7.0.72\n",
      "\n",
      "\u001b[1m[\u001b[0m\u001b[34;49mnotice\u001b[0m\u001b[1;39;49m]\u001b[0m\u001b[39;49m A new release of pip is available: \u001b[0m\u001b[31;49m23.1.1\u001b[0m\u001b[39;49m -> \u001b[0m\u001b[32;49m23.1.2\u001b[0m\n",
      "\u001b[1m[\u001b[0m\u001b[34;49mnotice\u001b[0m\u001b[1;39;49m]\u001b[0m\u001b[39;49m To update, run: \u001b[0m\u001b[32;49mpython3 -m pip install --upgrade pip\u001b[0m\n",
      "Note: you may need to restart the kernel to use updated packages.\n"
     ]
    }
   ],
   "source": [
    "pip install opencv-python\n"
   ]
  },
  {
   "cell_type": "code",
   "execution_count": 8,
   "id": "e3698f1b-18f6-4692-9c49-881ca3b324d9",
   "metadata": {
    "tags": []
   },
   "outputs": [
    {
     "name": "stdout",
     "output_type": "stream",
     "text": [
      "Hit:1 https://dl.yarnpkg.com/debian stable InRelease\n",
      "Hit:2 https://packages.microsoft.com/repos/microsoft-ubuntu-focal-prod focal InRelease\n",
      "Hit:3 https://repo.anaconda.com/pkgs/misc/debrepo/conda stable InRelease       \n",
      "Hit:4 http://security.ubuntu.com/ubuntu focal-security InRelease               \n",
      "Hit:5 http://archive.ubuntu.com/ubuntu focal InRelease                         \n",
      "Hit:6 http://archive.ubuntu.com/ubuntu focal-updates InRelease       \n",
      "Hit:7 http://archive.ubuntu.com/ubuntu focal-backports InRelease     \n",
      "Hit:8 https://packagecloud.io/github/git-lfs/ubuntu focal InRelease\n",
      "Reading package lists... Done\n",
      "Reading package lists... Done\n",
      "Building dependency tree       \n",
      "Reading state information... Done\n",
      "The following additional packages will be installed:\n",
      "  libdrm-amdgpu1 libdrm-intel1 libdrm-nouveau2 libdrm-radeon1 libgl1\n",
      "  libgl1-mesa-dri libglapi-mesa libglvnd0 libglx-mesa0 libglx0 libllvm12\n",
      "  libpciaccess0 libsensors-config libsensors5 libvulkan1 libxcb-dri2-0\n",
      "  libxcb-dri3-0 libxcb-glx0 libxcb-present0 libxcb-randr0 libxcb-sync1\n",
      "  libxcb-xfixes0 libxshmfence1 libxxf86vm1 mesa-vulkan-drivers\n",
      "Suggested packages:\n",
      "  pciutils lm-sensors\n",
      "The following NEW packages will be installed:\n",
      "  libdrm-amdgpu1 libdrm-intel1 libdrm-nouveau2 libdrm-radeon1 libgl1\n",
      "  libgl1-mesa-dri libgl1-mesa-glx libglapi-mesa libglvnd0 libglx-mesa0 libglx0\n",
      "  libllvm12 libpciaccess0 libsensors-config libsensors5 libvulkan1\n",
      "  libxcb-dri2-0 libxcb-dri3-0 libxcb-glx0 libxcb-present0 libxcb-randr0\n",
      "  libxcb-sync1 libxcb-xfixes0 libxshmfence1 libxxf86vm1 mesa-vulkan-drivers\n",
      "0 upgraded, 26 newly installed, 0 to remove and 13 not upgraded.\n",
      "Need to get 36.2 MB of archives.\n",
      "After this operation, 524 MB of additional disk space will be used.\n",
      "Get:1 http://archive.ubuntu.com/ubuntu focal-updates/main amd64 libdrm-amdgpu1 amd64 2.4.107-8ubuntu1~20.04.2 [18.6 kB]\n",
      "Get:2 http://archive.ubuntu.com/ubuntu focal/main amd64 libpciaccess0 amd64 0.16-0ubuntu1 [17.9 kB]\n",
      "Get:3 http://archive.ubuntu.com/ubuntu focal-updates/main amd64 libdrm-intel1 amd64 2.4.107-8ubuntu1~20.04.2 [60.3 kB]\n",
      "Get:4 http://archive.ubuntu.com/ubuntu focal-updates/main amd64 libdrm-nouveau2 amd64 2.4.107-8ubuntu1~20.04.2 [16.6 kB]\n",
      "Get:5 http://archive.ubuntu.com/ubuntu focal-updates/main amd64 libdrm-radeon1 amd64 2.4.107-8ubuntu1~20.04.2 [19.7 kB]\n",
      "Get:6 http://archive.ubuntu.com/ubuntu focal-updates/main amd64 libglapi-mesa amd64 21.2.6-0ubuntu0.1~20.04.2 [27.4 kB]\n",
      "Get:7 http://archive.ubuntu.com/ubuntu focal-updates/main amd64 libllvm12 amd64 1:12.0.0-3ubuntu1~20.04.5 [18.8 MB]\n",
      "Get:8 http://archive.ubuntu.com/ubuntu focal-updates/main amd64 libsensors-config all 1:3.6.0-2ubuntu1.1 [6052 B]\n",
      "Get:9 http://archive.ubuntu.com/ubuntu focal-updates/main amd64 libsensors5 amd64 1:3.6.0-2ubuntu1.1 [27.2 kB]\n",
      "Get:10 http://archive.ubuntu.com/ubuntu focal/main amd64 libvulkan1 amd64 1.2.131.2-1 [93.3 kB]\n",
      "Get:11 http://archive.ubuntu.com/ubuntu focal-updates/main amd64 libgl1-mesa-dri amd64 21.2.6-0ubuntu0.1~20.04.2 [11.0 MB]\n",
      "Get:12 http://archive.ubuntu.com/ubuntu focal-updates/main amd64 libglvnd0 amd64 1.3.2-1~ubuntu0.20.04.2 [48.1 kB]\n",
      "Get:13 http://archive.ubuntu.com/ubuntu focal/main amd64 libxcb-dri2-0 amd64 1.14-2 [6920 B]\n",
      "Get:14 http://archive.ubuntu.com/ubuntu focal/main amd64 libxcb-dri3-0 amd64 1.14-2 [6552 B]\n",
      "Get:15 http://archive.ubuntu.com/ubuntu focal/main amd64 libxcb-glx0 amd64 1.14-2 [22.1 kB]\n",
      "Get:16 http://archive.ubuntu.com/ubuntu focal/main amd64 libxcb-present0 amd64 1.14-2 [5560 B]\n",
      "Get:17 http://archive.ubuntu.com/ubuntu focal/main amd64 libxcb-sync1 amd64 1.14-2 [8884 B]\n",
      "Get:18 http://archive.ubuntu.com/ubuntu focal/main amd64 libxcb-xfixes0 amd64 1.14-2 [9296 B]\n",
      "Get:19 http://archive.ubuntu.com/ubuntu focal/main amd64 libxshmfence1 amd64 1.3-1 [5028 B]\n",
      "Get:20 http://archive.ubuntu.com/ubuntu focal/main amd64 libxxf86vm1 amd64 1:1.1.4-1build1 [10.2 kB]\n",
      "Get:21 http://archive.ubuntu.com/ubuntu focal-updates/main amd64 libglx-mesa0 amd64 21.2.6-0ubuntu0.1~20.04.2 [137 kB]\n",
      "Get:22 http://archive.ubuntu.com/ubuntu focal-updates/main amd64 libglx0 amd64 1.3.2-1~ubuntu0.20.04.2 [32.5 kB]\n",
      "Get:23 http://archive.ubuntu.com/ubuntu focal-updates/main amd64 libgl1 amd64 1.3.2-1~ubuntu0.20.04.2 [85.8 kB]\n",
      "Get:24 http://archive.ubuntu.com/ubuntu focal-updates/main amd64 libgl1-mesa-glx amd64 21.2.6-0ubuntu0.1~20.04.2 [5536 B]\n",
      "Get:25 http://archive.ubuntu.com/ubuntu focal/main amd64 libxcb-randr0 amd64 1.14-2 [16.3 kB]\n",
      "Get:26 http://archive.ubuntu.com/ubuntu focal-updates/main amd64 mesa-vulkan-drivers amd64 21.2.6-0ubuntu0.1~20.04.2 [5788 kB]\n",
      "Fetched 36.2 MB in 6s (5852 kB/s)                                              \n",
      "Selecting previously unselected package libdrm-amdgpu1:amd64.\n",
      "(Reading database ... 68043 files and directories currently installed.)\n",
      "Preparing to unpack .../00-libdrm-amdgpu1_2.4.107-8ubuntu1~20.04.2_amd64.deb ...\n",
      "Unpacking libdrm-amdgpu1:amd64 (2.4.107-8ubuntu1~20.04.2) ...\n",
      "Selecting previously unselected package libpciaccess0:amd64.\n",
      "Preparing to unpack .../01-libpciaccess0_0.16-0ubuntu1_amd64.deb ...\n",
      "Unpacking libpciaccess0:amd64 (0.16-0ubuntu1) ...\n",
      "Selecting previously unselected package libdrm-intel1:amd64.\n",
      "Preparing to unpack .../02-libdrm-intel1_2.4.107-8ubuntu1~20.04.2_amd64.deb ...\n",
      "Unpacking libdrm-intel1:amd64 (2.4.107-8ubuntu1~20.04.2) ...\n",
      "Selecting previously unselected package libdrm-nouveau2:amd64.\n",
      "Preparing to unpack .../03-libdrm-nouveau2_2.4.107-8ubuntu1~20.04.2_amd64.deb ...\n",
      "Unpacking libdrm-nouveau2:amd64 (2.4.107-8ubuntu1~20.04.2) ...\n",
      "Selecting previously unselected package libdrm-radeon1:amd64.\n",
      "Preparing to unpack .../04-libdrm-radeon1_2.4.107-8ubuntu1~20.04.2_amd64.deb ...\n",
      "Unpacking libdrm-radeon1:amd64 (2.4.107-8ubuntu1~20.04.2) ...\n",
      "Selecting previously unselected package libglapi-mesa:amd64.\n",
      "Preparing to unpack .../05-libglapi-mesa_21.2.6-0ubuntu0.1~20.04.2_amd64.deb ...\n",
      "Unpacking libglapi-mesa:amd64 (21.2.6-0ubuntu0.1~20.04.2) ...\n",
      "Selecting previously unselected package libllvm12:amd64.\n",
      "Preparing to unpack .../06-libllvm12_1%3a12.0.0-3ubuntu1~20.04.5_amd64.deb ...\n",
      "Unpacking libllvm12:amd64 (1:12.0.0-3ubuntu1~20.04.5) ...\n",
      "Selecting previously unselected package libsensors-config.\n",
      "Preparing to unpack .../07-libsensors-config_1%3a3.6.0-2ubuntu1.1_all.deb ...\n",
      "Unpacking libsensors-config (1:3.6.0-2ubuntu1.1) ...\n",
      "Selecting previously unselected package libsensors5:amd64.\n",
      "Preparing to unpack .../08-libsensors5_1%3a3.6.0-2ubuntu1.1_amd64.deb ...\n",
      "Unpacking libsensors5:amd64 (1:3.6.0-2ubuntu1.1) ...\n",
      "Selecting previously unselected package libvulkan1:amd64.\n",
      "Preparing to unpack .../09-libvulkan1_1.2.131.2-1_amd64.deb ...\n",
      "Unpacking libvulkan1:amd64 (1.2.131.2-1) ...\n",
      "Selecting previously unselected package libgl1-mesa-dri:amd64.\n",
      "Preparing to unpack .../10-libgl1-mesa-dri_21.2.6-0ubuntu0.1~20.04.2_amd64.deb ...\n",
      "Unpacking libgl1-mesa-dri:amd64 (21.2.6-0ubuntu0.1~20.04.2) ...\n",
      "Selecting previously unselected package libglvnd0:amd64.\n",
      "Preparing to unpack .../11-libglvnd0_1.3.2-1~ubuntu0.20.04.2_amd64.deb ...\n",
      "Unpacking libglvnd0:amd64 (1.3.2-1~ubuntu0.20.04.2) ...\n",
      "Selecting previously unselected package libxcb-dri2-0:amd64.\n",
      "Preparing to unpack .../12-libxcb-dri2-0_1.14-2_amd64.deb ...\n",
      "Unpacking libxcb-dri2-0:amd64 (1.14-2) ...\n",
      "Selecting previously unselected package libxcb-dri3-0:amd64.\n",
      "Preparing to unpack .../13-libxcb-dri3-0_1.14-2_amd64.deb ...\n",
      "Unpacking libxcb-dri3-0:amd64 (1.14-2) ...\n",
      "Selecting previously unselected package libxcb-glx0:amd64.\n",
      "Preparing to unpack .../14-libxcb-glx0_1.14-2_amd64.deb ...\n",
      "Unpacking libxcb-glx0:amd64 (1.14-2) ...\n",
      "Selecting previously unselected package libxcb-present0:amd64.\n",
      "Preparing to unpack .../15-libxcb-present0_1.14-2_amd64.deb ...\n",
      "Unpacking libxcb-present0:amd64 (1.14-2) ...\n",
      "Selecting previously unselected package libxcb-sync1:amd64.\n",
      "Preparing to unpack .../16-libxcb-sync1_1.14-2_amd64.deb ...\n",
      "Unpacking libxcb-sync1:amd64 (1.14-2) ...\n",
      "Selecting previously unselected package libxcb-xfixes0:amd64.\n",
      "Preparing to unpack .../17-libxcb-xfixes0_1.14-2_amd64.deb ...\n",
      "Unpacking libxcb-xfixes0:amd64 (1.14-2) ...\n",
      "Selecting previously unselected package libxshmfence1:amd64.\n",
      "Preparing to unpack .../18-libxshmfence1_1.3-1_amd64.deb ...\n",
      "Unpacking libxshmfence1:amd64 (1.3-1) ...\n",
      "Selecting previously unselected package libxxf86vm1:amd64.\n",
      "Preparing to unpack .../19-libxxf86vm1_1%3a1.1.4-1build1_amd64.deb ...\n",
      "Unpacking libxxf86vm1:amd64 (1:1.1.4-1build1) ...\n",
      "Selecting previously unselected package libglx-mesa0:amd64.\n",
      "Preparing to unpack .../20-libglx-mesa0_21.2.6-0ubuntu0.1~20.04.2_amd64.deb ...\n",
      "Unpacking libglx-mesa0:amd64 (21.2.6-0ubuntu0.1~20.04.2) ...\n",
      "Selecting previously unselected package libglx0:amd64.\n",
      "Preparing to unpack .../21-libglx0_1.3.2-1~ubuntu0.20.04.2_amd64.deb ...\n",
      "Unpacking libglx0:amd64 (1.3.2-1~ubuntu0.20.04.2) ...\n",
      "Selecting previously unselected package libgl1:amd64.\n",
      "Preparing to unpack .../22-libgl1_1.3.2-1~ubuntu0.20.04.2_amd64.deb ...\n",
      "Unpacking libgl1:amd64 (1.3.2-1~ubuntu0.20.04.2) ...\n",
      "Selecting previously unselected package libgl1-mesa-glx:amd64.\n",
      "Preparing to unpack .../23-libgl1-mesa-glx_21.2.6-0ubuntu0.1~20.04.2_amd64.deb ...\n",
      "Unpacking libgl1-mesa-glx:amd64 (21.2.6-0ubuntu0.1~20.04.2) ...\n",
      "Selecting previously unselected package libxcb-randr0:amd64.\n",
      "Preparing to unpack .../24-libxcb-randr0_1.14-2_amd64.deb ...\n",
      "Unpacking libxcb-randr0:amd64 (1.14-2) ...\n",
      "Selecting previously unselected package mesa-vulkan-drivers:amd64.\n",
      "Preparing to unpack .../25-mesa-vulkan-drivers_21.2.6-0ubuntu0.1~20.04.2_amd64.deb ...\n",
      "Unpacking mesa-vulkan-drivers:amd64 (21.2.6-0ubuntu0.1~20.04.2) ...\n",
      "Setting up libxcb-dri3-0:amd64 (1.14-2) ...\n",
      "Setting up libpciaccess0:amd64 (0.16-0ubuntu1) ...\n",
      "Setting up libdrm-nouveau2:amd64 (2.4.107-8ubuntu1~20.04.2) ...\n",
      "Setting up libxcb-xfixes0:amd64 (1.14-2) ...\n",
      "Setting up libdrm-radeon1:amd64 (2.4.107-8ubuntu1~20.04.2) ...\n",
      "Setting up libglvnd0:amd64 (1.3.2-1~ubuntu0.20.04.2) ...\n",
      "Setting up libxcb-glx0:amd64 (1.14-2) ...\n",
      "Setting up libdrm-intel1:amd64 (2.4.107-8ubuntu1~20.04.2) ...\n",
      "Setting up libsensors-config (1:3.6.0-2ubuntu1.1) ...\n",
      "Setting up libxxf86vm1:amd64 (1:1.1.4-1build1) ...\n",
      "Setting up libxcb-present0:amd64 (1.14-2) ...\n",
      "Setting up libxcb-sync1:amd64 (1.14-2) ...\n",
      "Setting up libllvm12:amd64 (1:12.0.0-3ubuntu1~20.04.5) ...\n",
      "Setting up libsensors5:amd64 (1:3.6.0-2ubuntu1.1) ...\n",
      "Setting up libglapi-mesa:amd64 (21.2.6-0ubuntu0.1~20.04.2) ...\n",
      "Setting up libvulkan1:amd64 (1.2.131.2-1) ...\n",
      "Setting up libxcb-dri2-0:amd64 (1.14-2) ...\n",
      "Setting up libxshmfence1:amd64 (1.3-1) ...\n",
      "Setting up libxcb-randr0:amd64 (1.14-2) ...\n",
      "Setting up libdrm-amdgpu1:amd64 (2.4.107-8ubuntu1~20.04.2) ...\n",
      "Setting up mesa-vulkan-drivers:amd64 (21.2.6-0ubuntu0.1~20.04.2) ...\n",
      "Setting up libgl1-mesa-dri:amd64 (21.2.6-0ubuntu0.1~20.04.2) ...\n",
      "Setting up libglx-mesa0:amd64 (21.2.6-0ubuntu0.1~20.04.2) ...\n",
      "Setting up libglx0:amd64 (1.3.2-1~ubuntu0.20.04.2) ...\n",
      "Setting up libgl1:amd64 (1.3.2-1~ubuntu0.20.04.2) ...\n",
      "Setting up libgl1-mesa-glx:amd64 (21.2.6-0ubuntu0.1~20.04.2) ...\n",
      "Processing triggers for libc-bin (2.31-0ubuntu9.9) ...\n"
     ]
    }
   ],
   "source": [
    "!sudo apt-get update && sudo apt-get install -y libgl1-mesa-glx\n"
   ]
  },
  {
   "cell_type": "code",
   "execution_count": 5,
   "id": "a32ad795-cb98-4bd6-8f5e-7770922732c8",
   "metadata": {
    "tags": []
   },
   "outputs": [
    {
     "ename": "SyntaxError",
     "evalue": "invalid syntax (2753851799.py, line 1)",
     "output_type": "error",
     "traceback": [
      "\u001b[0;36m  Cell \u001b[0;32mIn[5], line 1\u001b[0;36m\u001b[0m\n\u001b[0;31m    sudo apt-get update\u001b[0m\n\u001b[0m         ^\u001b[0m\n\u001b[0;31mSyntaxError\u001b[0m\u001b[0;31m:\u001b[0m invalid syntax\n"
     ]
    }
   ],
   "source": [
    "sudo apt-get update\n"
   ]
  },
  {
   "cell_type": "code",
   "execution_count": 6,
   "id": "98001449-113e-4da1-bbdc-fe585c3eaf48",
   "metadata": {
    "tags": []
   },
   "outputs": [
    {
     "name": "stdout",
     "output_type": "stream",
     "text": [
      "Get:1 https://packages.microsoft.com/repos/microsoft-ubuntu-focal-prod focal InRelease [3611 B]\n",
      "Get:2 https://dl.yarnpkg.com/debian stable InRelease [17.1 kB]        \n",
      "Get:3 https://repo.anaconda.com/pkgs/misc/debrepo/conda stable InRelease [3960 B]\n",
      "Get:4 https://packages.microsoft.com/repos/microsoft-ubuntu-focal-prod focal/main amd64 Packages [199 kB]\n",
      "Get:5 https://packages.microsoft.com/repos/microsoft-ubuntu-focal-prod focal/main all Packages [2460 B]\n",
      "Get:6 https://dl.yarnpkg.com/debian stable/main amd64 Packages [11.1 kB]       \n",
      "Get:7 https://dl.yarnpkg.com/debian stable/main all Packages [11.1 kB]         \n",
      "Get:8 https://repo.anaconda.com/pkgs/misc/debrepo/conda stable/main amd64 Packages [2120 B]\n",
      "Get:9 http://security.ubuntu.com/ubuntu focal-security InRelease [114 kB]      \n",
      "Get:10 http://archive.ubuntu.com/ubuntu focal InRelease [265 kB]               \n",
      "Get:11 https://packagecloud.io/github/git-lfs/ubuntu focal InRelease [24.4 kB] \n",
      "Get:12 http://security.ubuntu.com/ubuntu focal-security/main amd64 Packages [2674 kB]\n",
      "Get:13 http://archive.ubuntu.com/ubuntu focal-updates InRelease [114 kB]       \n",
      "Get:14 http://archive.ubuntu.com/ubuntu focal-backports InRelease [108 kB]     \n",
      "Get:15 https://packagecloud.io/github/git-lfs/ubuntu focal/main amd64 Packages [3134 B]\n",
      "Get:16 http://archive.ubuntu.com/ubuntu focal/main amd64 Packages [1275 kB]    \n",
      "Get:17 http://security.ubuntu.com/ubuntu focal-security/restricted amd64 Packages [2203 kB]\n",
      "Get:18 http://archive.ubuntu.com/ubuntu focal/restricted amd64 Packages [33.4 kB]\n",
      "Get:19 http://archive.ubuntu.com/ubuntu focal/multiverse amd64 Packages [177 kB]\n",
      "Get:20 http://archive.ubuntu.com/ubuntu focal/universe amd64 Packages [11.3 MB]\n",
      "Get:21 http://security.ubuntu.com/ubuntu focal-security/multiverse amd64 Packages [28.5 kB]\n",
      "Get:22 http://security.ubuntu.com/ubuntu focal-security/universe amd64 Packages [1045 kB]\n",
      "Get:23 http://archive.ubuntu.com/ubuntu focal-updates/universe amd64 Packages [1341 kB]\n",
      "Get:24 http://archive.ubuntu.com/ubuntu focal-updates/multiverse amd64 Packages [31.2 kB]\n",
      "Get:25 http://archive.ubuntu.com/ubuntu focal-updates/main amd64 Packages [3157 kB]\n",
      "Get:26 http://archive.ubuntu.com/ubuntu focal-updates/restricted amd64 Packages [2341 kB]\n",
      "Get:27 http://archive.ubuntu.com/ubuntu focal-backports/universe amd64 Packages [28.6 kB]\n",
      "Get:28 http://archive.ubuntu.com/ubuntu focal-backports/main amd64 Packages [55.2 kB]\n",
      "Fetched 26.6 MB in 6s (4185 kB/s)                                              \n",
      "Reading package lists... Done\n"
     ]
    }
   ],
   "source": [
    "!sudo apt-get update\n"
   ]
  },
  {
   "cell_type": "code",
   "execution_count": 9,
   "id": "b6c0e157-6e27-4683-a70b-c81494a4b24d",
   "metadata": {
    "tags": []
   },
   "outputs": [
    {
     "name": "stderr",
     "output_type": "stream",
     "text": [
      "[ WARN:0@0.050] global cap_v4l.cpp:982 open VIDEOIO(V4L2:/dev/video0): can't open camera by index\n",
      "[ERROR:0@0.050] global obsensor_uvc_stream_channel.cpp:156 getStreamChannelGroup Camera index out of range\n"
     ]
    }
   ],
   "source": [
    "import cv2\n",
    "import numpy as np\n",
    "\n",
    "cap = cv2.VideoCapture(0)\n"
   ]
  },
  {
   "cell_type": "code",
   "execution_count": 10,
   "id": "6036f487-cefc-4b3b-a5f0-b681d9dcaa91",
   "metadata": {
    "tags": []
   },
   "outputs": [
    {
     "name": "stdout",
     "output_type": "stream",
     "text": [
      "ls: cannot access '/dev/video*': No such file or directory\n"
     ]
    }
   ],
   "source": [
    "ls /dev/video*\n"
   ]
  },
  {
   "cell_type": "code",
   "execution_count": 11,
   "id": "e82ce43b-d55b-4f0d-8d91-f15d3792de14",
   "metadata": {
    "tags": []
   },
   "outputs": [
    {
     "ename": "ModuleNotFoundError",
     "evalue": "No module named 'dlib'",
     "output_type": "error",
     "traceback": [
      "\u001b[0;31m---------------------------------------------------------------------------\u001b[0m",
      "\u001b[0;31mModuleNotFoundError\u001b[0m                       Traceback (most recent call last)",
      "Cell \u001b[0;32mIn[11], line 2\u001b[0m\n\u001b[1;32m      1\u001b[0m \u001b[38;5;28;01mimport\u001b[39;00m \u001b[38;5;21;01mcv2\u001b[39;00m\n\u001b[0;32m----> 2\u001b[0m \u001b[38;5;28;01mimport\u001b[39;00m \u001b[38;5;21;01mdlib\u001b[39;00m\n\u001b[1;32m      3\u001b[0m \u001b[38;5;28;01mimport\u001b[39;00m \u001b[38;5;21;01mnumpy\u001b[39;00m \u001b[38;5;28;01mas\u001b[39;00m \u001b[38;5;21;01mnp\u001b[39;00m\n\u001b[1;32m      4\u001b[0m \u001b[38;5;28;01mfrom\u001b[39;00m \u001b[38;5;21;01mscipy\u001b[39;00m\u001b[38;5;21;01m.\u001b[39;00m\u001b[38;5;21;01mspatial\u001b[39;00m \u001b[38;5;28;01mimport\u001b[39;00m distance\n",
      "\u001b[0;31mModuleNotFoundError\u001b[0m: No module named 'dlib'"
     ]
    }
   ],
   "source": [
    "import cv2\n",
    "import dlib\n",
    "import numpy as np\n",
    "from scipy.spatial import distance\n",
    "\n",
    "# Load pre-trained models\n",
    "face_detector = dlib.get_frontal_face_detector()\n",
    "landmark_predictor = dlib.shape_predictor(\"shape_predictor_68_face_landmarks.dat\")\n",
    "\n",
    "# Compute EAR given eye landmarks\n",
    "def eye_aspect_ratio(eye):\n",
    "    A = distance.euclidean(eye[1], eye[5])\n",
    "    B = distance.euclidean(eye[2], eye[4])\n",
    "    C = distance.euclidean(eye[0], eye[3])\n",
    "    ear = (A + B) / (2.0 * C)\n",
    "    return ear\n",
    "\n",
    "# Start video capture\n",
    "cap = cv2.VideoCapture(0)\n",
    "\n",
    "while True:\n",
    "    ret, frame = cap.read()\n",
    "    if not ret:\n",
    "        break\n",
    "\n",
    "    gray = cv2.cvtColor(frame, cv2.COLOR_BGR2GRAY)\n",
    "    faces = face_detector(gray)\n",
    "\n",
    "    for face in faces:\n",
    "        landmarks = landmark_predictor(gray, face)\n",
    "\n",
    "        # Get coordinates of left and right eyes\n",
    "        left_eye = np.array([(landmarks.part(i).x, landmarks.part(i).y) for i in range(36, 42)])\n",
    "        right_eye = np.array([(landmarks.part(i).x, landmarks.part(i).y) for i in range(42, 48)])\n",
    "\n",
    "        left_ear = eye_aspect_ratio(left_eye)\n",
    "        right_ear = eye_aspect_ratio(right_eye)\n",
    "        ear = (left_ear + right_ear) / 2.0\n",
    "\n",
    "        # If EAR is less than a certain threshold, the eye is closed\n",
    "        if ear < 0.3:\n",
    "            cv2.putText(frame, \"Eyes closed\", (10, 30), cv2.FONT_HERSHEY_SIMPLEX, 0.7, (0, 0, 255), 2)\n",
    "        else:\n",
    "            cv2.putText(frame, \"Eyes open\", (10, 30), cv2.FONT_HERSHEY_SIMPLEX, 0.7, (0, 255, 0), 2)\n",
    "\n",
    "        # Show image\n",
    "        cv2.imshow(\"Eye state detection\", frame)\n",
    "\n",
    "    # Exit loop if 'q' is pressed\n",
    "    if cv2.waitKey(1) & 0xFF == ord('q'):\n",
    "        break\n",
    "\n",
    "cap.release()\n",
    "cv2.destroyAllWindows()\n"
   ]
  },
  {
   "cell_type": "code",
   "execution_count": null,
   "id": "7b1f029d-0ab7-403a-a51f-7f2938e56384",
   "metadata": {
    "tags": []
   },
   "outputs": [],
   "source": [
    "!pip install dlib"
   ]
  },
  {
   "cell_type": "code",
   "execution_count": null,
   "id": "62080070-68d0-466d-b2f5-9263b7d7c20a",
   "metadata": {},
   "outputs": [],
   "source": []
  }
 ],
 "metadata": {
  "kernelspec": {
   "display_name": "Python 3 (ipykernel)",
   "language": "python",
   "name": "python3"
  },
  "language_info": {
   "codemirror_mode": {
    "name": "ipython",
    "version": 3
   },
   "file_extension": ".py",
   "mimetype": "text/x-python",
   "name": "python",
   "nbconvert_exporter": "python",
   "pygments_lexer": "ipython3",
   "version": "3.10.4"
  }
 },
 "nbformat": 4,
 "nbformat_minor": 5
}
